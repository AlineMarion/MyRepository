{
 "cells": [
  {
   "cell_type": "markdown",
   "id": "bb0f9514",
   "metadata": {},
   "source": [
    "# Lista de Estrutura Sequencial"
   ]
  },
  {
   "cell_type": "markdown",
   "id": "4e7a8c30",
   "metadata": {},
   "source": [
    "#### 1. Faça um Programa que mostre a mensagem (print) \"Alo mundo\" na tela."
   ]
  },
  {
   "cell_type": "code",
   "execution_count": 1,
   "id": "883bfe85",
   "metadata": {},
   "outputs": [
    {
     "name": "stdout",
     "output_type": "stream",
     "text": [
      "Hello world!\n"
     ]
    }
   ],
   "source": [
    "print(\"Hello world!\")"
   ]
  },
  {
   "cell_type": "markdown",
   "id": "71d6d6a2",
   "metadata": {},
   "source": [
    "#### 2. Faça um Programa que peça um número (input) e então mostre a mensagem: \"O número informado foi [número].\""
   ]
  },
  {
   "cell_type": "code",
   "execution_count": 2,
   "id": "30cfffcf",
   "metadata": {},
   "outputs": [
    {
     "name": "stdout",
     "output_type": "stream",
     "text": [
      "Por favor, digite um número qualquer: 1500\n",
      "1500\n"
     ]
    }
   ],
   "source": [
    "numero = input(\"Por favor, digite um número qualquer: \")\n",
    "print(numero)"
   ]
  },
  {
   "cell_type": "markdown",
   "id": "c5e43160",
   "metadata": {},
   "source": [
    "#### 3. Faça um Programa que peça dois números e imprima a soma."
   ]
  },
  {
   "cell_type": "code",
   "execution_count": 4,
   "id": "b0e79590",
   "metadata": {},
   "outputs": [
    {
     "name": "stdout",
     "output_type": "stream",
     "text": [
      "Por favor, digite o primeiro número da soma: 1500.2\n",
      "Por favor, digite o segundo número da soma: 900.1\n",
      "2400.3\n"
     ]
    }
   ],
   "source": [
    "num1 = float(input(\"Por favor, digite o primeiro número da soma: \"))\n",
    "num2 = float(input(\"Por favor, digite o segundo número da soma: \"))\n",
    "print(num1 + num2)"
   ]
  },
  {
   "cell_type": "markdown",
   "id": "17826987",
   "metadata": {},
   "source": [
    "#### 4. Faça um Programa que peça as 4 notas bimestrais de um aluno e mostre a média de todas as notas."
   ]
  },
  {
   "cell_type": "code",
   "execution_count": 5,
   "id": "23b66762",
   "metadata": {},
   "outputs": [
    {
     "name": "stdout",
     "output_type": "stream",
     "text": [
      "Por favor, digite a nota do primeiro bimestre: 9\n",
      "Por favor, digite a nota do segundo bimestre: 4\n",
      "Por favor, digite a nota do terceiro bimestre: 6\n",
      "Por favor, digite a nota do quarto bimestre: 2\n",
      "5.25\n"
     ]
    }
   ],
   "source": [
    "nota1 = float(input(\"Por favor, digite a nota do primeiro bimestre: \"))\n",
    "nota2 = float(input(\"Por favor, digite a nota do segundo bimestre: \"))\n",
    "nota3 = float(input(\"Por favor, digite a nota do terceiro bimestre: \"))\n",
    "nota4 = float(input(\"Por favor, digite a nota do quarto bimestre: \"))\n",
    "\n",
    "media = (nota1 + nota2 + nota3 + nota4) / 4\n",
    "\n",
    "print(media)"
   ]
  },
  {
   "cell_type": "markdown",
   "id": "62d461c5",
   "metadata": {},
   "source": [
    "#### 5. Faça um Programa que converta metros para centímetros. Você pode pedir o comprimento em metros para o usuário (input)."
   ]
  },
  {
   "cell_type": "code",
   "execution_count": 7,
   "id": "d642f1ba",
   "metadata": {},
   "outputs": [
    {
     "name": "stdout",
     "output_type": "stream",
     "text": [
      "Digite o valor em metros para ser convertido em centímetros: 5\n",
      "500.0 centímetros\n"
     ]
    }
   ],
   "source": [
    "metros = float(input(\"Digite o valor em metros para ser convertido em centímetros: \"))\n",
    "\n",
    "print(f'{metros * 100} centímetros') # usando f-string"
   ]
  },
  {
   "cell_type": "markdown",
   "id": "f1311697",
   "metadata": {},
   "source": [
    "#### 7. Faça um Programa que calcule a área de uma sala de um apartamento. Para isso, o seu programa precisa pedir a largura da sala, o comprimento da sala e imprimir a área em m² da sala."
   ]
  },
  {
   "cell_type": "code",
   "execution_count": 8,
   "id": "612ea24b",
   "metadata": {},
   "outputs": [
    {
     "name": "stdout",
     "output_type": "stream",
     "text": [
      "Digite a largura da sala: 5\n",
      "Digite o comprimento da sala: 2\n",
      "A área da sala, em m2, é igual a: 10.0.\n"
     ]
    }
   ],
   "source": [
    "largura = float(input(\"Digite a largura da sala: \"))\n",
    "comprimento = float(input(\"Digite o comprimento da sala: \"))\n",
    "\n",
    "print(f'A área da sala, em m2, é igual a: {largura * comprimento}.')"
   ]
  },
  {
   "cell_type": "markdown",
   "id": "2a285929",
   "metadata": {},
   "source": [
    "#### 8. Faça um Programa que pergunte quanto você ganha por hora e o número de horas trabalhadas no mês. Calcule e mostre o total do seu salário no referido mês."
   ]
  },
  {
   "cell_type": "code",
   "execution_count": 10,
   "id": "359e2232",
   "metadata": {},
   "outputs": [
    {
     "name": "stdout",
     "output_type": "stream",
     "text": [
      "Qual o valor da sua hora trabalhada? 100\n",
      "E quantas horas você trabalhou no mês? 160\n",
      "Desta forma, seu salário neste mês será de: 16000.0.\n"
     ]
    }
   ],
   "source": [
    "vlr_hora = float(input(\"Qual o valor da sua hora trabalhada? \"))\n",
    "hrs_trabalhadas = float(input(\"E quantas horas você trabalhou no mês? \"))\n",
    "\n",
    "print(f'Desta forma, seu salário neste mês será de: {vlr_hora * hrs_trabalhadas}.')"
   ]
  },
  {
   "cell_type": "markdown",
   "id": "7e2d4615",
   "metadata": {},
   "source": [
    "#### 9. Vamos criar um conversor de temperatura. Faça um Programa que peça a temperatura em graus Fahrenheit, transforme e mostre a temperatura em graus Celsius.\n",
    "$C = \\frac{5}{9}(F-32)$"
   ]
  },
  {
   "cell_type": "code",
   "execution_count": 7,
   "id": "82daf9fd",
   "metadata": {},
   "outputs": [
    {
     "name": "stdout",
     "output_type": "stream",
     "text": [
      "Digite a temperatura em graus fahrenheit para ser convertida em graus celcius:150\n",
      "65.55555555555556\n"
     ]
    }
   ],
   "source": [
    "# conversor de temperatura\n",
    "fahren = float(input('Digite a temperatura em graus fahrenheit para ser convertida em graus celcius: '))\n",
    "\n",
    "celcius = (fahren - 32) * 5 / 9\n",
    "\n",
    "print(celcius)"
   ]
  },
  {
   "cell_type": "markdown",
   "id": "20708b1c",
   "metadata": {},
   "source": [
    "#### 10. Faça um Programa que peça a temperatura em graus Celsius, transforme e mostre em graus Fahrenheit.\n",
    "$F = \\frac{9}{5}C + 32$"
   ]
  },
  {
   "cell_type": "code",
   "execution_count": 13,
   "id": "c73cfb38",
   "metadata": {},
   "outputs": [
    {
     "name": "stdout",
     "output_type": "stream",
     "text": [
      "Digite a temperatura em graus celsius para ser convertida em graus fahrenheit: 25\n",
      "Sendo assim, 25.0 graus celsius convertido, fica: 77.0 graus fahrenheit.\n"
     ]
    }
   ],
   "source": [
    "celsius = float(input('Digite a temperatura em graus celsius para ser convertida em graus fahrenheit: '))\n",
    "\n",
    "fahren = 9 / 5 * celsius + 32\n",
    "\n",
    "\n",
    "print(f'Sendo assim, {celsius} graus celsius convertido, fica: {fahren} graus fahrenheit.')"
   ]
  },
  {
   "cell_type": "markdown",
   "id": "b263a9dc",
   "metadata": {},
   "source": [
    "#### 12. Tendo como dados de entrada a altura (h) de uma pessoa, construa um algoritmo que calcule seu peso ideal, usando a seguinte fórmula:\n",
    "$P = 72,7h - 58$\n",
    "\n",
    "Lembrando que \"algoritmo\" nada mais é do que um programa, como todos os outros que você vem fazendo"
   ]
  },
  {
   "cell_type": "code",
   "execution_count": 15,
   "id": "9a9b8dca",
   "metadata": {},
   "outputs": [
    {
     "name": "stdout",
     "output_type": "stream",
     "text": [
      "Digite a altura do paciente, em centímetros, para calcularmos o peso ideal: 160\n",
      "O peso ideal deste paciente é: 58.32000000000001 kg.\n"
     ]
    }
   ],
   "source": [
    "altura = float(input('Digite a altura do paciente, em centímetros, para calcularmos o peso ideal: '))\n",
    "peso = 72.7 * (altura / 100) - 58\n",
    "\n",
    "print(f'O peso ideal deste paciente é: {peso} kg.')\n"
   ]
  },
  {
   "cell_type": "markdown",
   "id": "13bb40d7",
   "metadata": {},
   "source": [
    "#### 13. Tendo como dado de entrada a altura (h) de uma pessoa, construa um algoritmo que calcule seu peso ideal, utilizando as seguintes fórmulas:\n",
    "##### a. Para homens: $P = 72,7h - 58$\n",
    "##### b. Para mulheres: $P = 62,1h - 44,7$"
   ]
  },
  {
   "cell_type": "code",
   "execution_count": 25,
   "id": "bf82dc8c",
   "metadata": {},
   "outputs": [
    {
     "name": "stdout",
     "output_type": "stream",
     "text": [
      "Digite a altura do paciente, em centímetros, para calcularmos o peso ideal: 160\n",
      "Se o paciente for do sexo masculino, o peso ideal é: 58.32000000000001 kg. Caso contrário, o peso ideal é: (55.360000000000014, 7).\n"
     ]
    }
   ],
   "source": [
    "altura = float(input('Digite a altura do paciente, em centímetros, para calcularmos o peso ideal: '))\n",
    "peso_homem = 72.7 * (altura / 100) - 58\n",
    "peso_mulher = 62.1 * (altura / 100) - 44,7\n",
    "\n",
    "print(f'Se o paciente for do sexo masculino, o peso ideal é: {peso_homem} kg. Caso contrário, o peso ideal é: {peso_mulher}.')"
   ]
  },
  {
   "cell_type": "markdown",
   "id": "f208ef89",
   "metadata": {},
   "source": [
    "#### 15. Faça um Programa que pergunte quanto você ganha por hora e o número de horas trabalhadas no mês."
   ]
  },
  {
   "cell_type": "code",
   "execution_count": 2,
   "id": "2d5b23e0",
   "metadata": {},
   "outputs": [
    {
     "name": "stdout",
     "output_type": "stream",
     "text": [
      "Qual o valor da sua hora? 100\n",
      "Quantas horas vc trabalhou neste mes? 160\n",
      "Seu salário será de: 16000.0.\n"
     ]
    }
   ],
   "source": [
    "vlr_hora = float(input('Qual o valor da sua hora? '))\n",
    "qtd_horas = float(input('Quantas horas vc trabalhou neste mes? '))\n",
    "\n",
    "print(f'Seu salário bruto será de: {vlr_hora * qtd_horas}.')"
   ]
  },
  {
   "cell_type": "markdown",
   "id": "607dee3c",
   "metadata": {},
   "source": [
    "#####  Calcule o salário bruto (horas * salario por hora)"
   ]
  },
  {
   "cell_type": "code",
   "execution_count": 3,
   "id": "7f80ccbb",
   "metadata": {},
   "outputs": [
    {
     "name": "stdout",
     "output_type": "stream",
     "text": [
      "Salário bruto = 16000.0.\n"
     ]
    }
   ],
   "source": [
    "sal_bruto = vlr_hora * qtd_horas\n",
    "print(f'Salário bruto = {sal_bruto}.')"
   ]
  },
  {
   "cell_type": "markdown",
   "id": "2ed93cb0",
   "metadata": {},
   "source": [
    "##### Calcule o desconto do IR (11% do salário bruto)"
   ]
  },
  {
   "cell_type": "code",
   "execution_count": 4,
   "id": "3363e22f",
   "metadata": {},
   "outputs": [
    {
     "name": "stdout",
     "output_type": "stream",
     "text": [
      "O desconto de Ir será de 1760.0.\n"
     ]
    }
   ],
   "source": [
    "print(f'O desconto de Ir será de {0.11 * sal_bruto}.')"
   ]
  },
  {
   "cell_type": "markdown",
   "id": "0994b2c0",
   "metadata": {},
   "source": [
    "##### Calcule o desconto do INSS (8% do salário bruto)"
   ]
  },
  {
   "cell_type": "code",
   "execution_count": 5,
   "id": "748c6088",
   "metadata": {},
   "outputs": [
    {
     "name": "stdout",
     "output_type": "stream",
     "text": [
      "O desconto de INSS será de 1280.0.\n"
     ]
    }
   ],
   "source": [
    "print(f'O desconto de INSS será de {0.08 * sal_bruto}.')"
   ]
  },
  {
   "cell_type": "markdown",
   "id": "06e8dae4",
   "metadata": {},
   "source": [
    "##### Calcule o desconto do sindicato (5% do salário bruto)"
   ]
  },
  {
   "cell_type": "code",
   "execution_count": 6,
   "id": "21b95b15",
   "metadata": {
    "scrolled": true
   },
   "outputs": [
    {
     "name": "stdout",
     "output_type": "stream",
     "text": [
      "O desconto do sindicato será de 800.0.\n"
     ]
    }
   ],
   "source": [
    "print(f'O desconto do sindicato será de {0.05 * sal_bruto}.')"
   ]
  },
  {
   "cell_type": "markdown",
   "id": "bb14ce36",
   "metadata": {},
   "source": [
    "##### Calcule o salário líquido (salário bruto - descontos)"
   ]
  },
  {
   "cell_type": "code",
   "execution_count": 7,
   "id": "56317086",
   "metadata": {},
   "outputs": [
    {
     "name": "stdout",
     "output_type": "stream",
     "text": [
      "O salário líquido será de 12160.0.\n"
     ]
    }
   ],
   "source": [
    "print(f'O salário líquido será de {sal_bruto - (0.11 * sal_bruto + 0.08 * sal_bruto + 0.05 * sal_bruto)}.')\n"
   ]
  },
  {
   "cell_type": "markdown",
   "id": "cfbfcc87",
   "metadata": {},
   "source": [
    "#### 16. Faça um programa para uma loja de tintas. O programa deverá pedir o tamanho em metros quadrados da área a ser pintada. Considere que a cobertura da tinta é de 1 litro para cada 3 metros quadrados e que a tinta é vendida em latas de 18 litros, que custam R\\$ 80,00. Informe ao usuário a quantidades de latas de tinta a serem compradas e o preço total. (para simplificação nesse momento, não se preocupe em arredondar a quantidade de latas a serem compradas - vamos trabalhar isso em breve)"
   ]
  },
  {
   "cell_type": "code",
   "execution_count": null,
   "id": "fb6a083b",
   "metadata": {},
   "outputs": [],
   "source": []
  },
  {
   "cell_type": "markdown",
   "id": "d6503c92",
   "metadata": {},
   "source": [
    "#### 18. Faça um programa que peça o tamanho de um arquivo para download (em MB) e a velocidade de um link de Internet (em Mbps), calcule e informe o tempo aproximado de download do arquivo usando este link (em minutos).\n",
    "\n",
    "Detalhe: MB significa megabyte, Mb (com b minúsculo) significa megabit. Um megabit é 1/8 de um megabyte. "
   ]
  },
  {
   "cell_type": "code",
   "execution_count": null,
   "id": "0563aa62",
   "metadata": {},
   "outputs": [],
   "source": []
  }
 ],
 "metadata": {
  "kernelspec": {
   "display_name": "Python 3 (ipykernel)",
   "language": "python",
   "name": "python3"
  },
  "language_info": {
   "codemirror_mode": {
    "name": "ipython",
    "version": 3
   },
   "file_extension": ".py",
   "mimetype": "text/x-python",
   "name": "python",
   "nbconvert_exporter": "python",
   "pygments_lexer": "ipython3",
   "version": "3.9.12"
  }
 },
 "nbformat": 4,
 "nbformat_minor": 5
}
