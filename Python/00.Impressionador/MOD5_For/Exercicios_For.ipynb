{
 "cells": [
  {
   "cell_type": "markdown",
   "metadata": {},
   "source": [
    "# Exercícios\n",
    "\n",
    "## 1. Criando um Registro de Hóspedes\n",
    "\n",
    "Digamos que você está criando o sistema para registrar a chegada de hóspedes em um hotel. No hotel, os hóspedes podem ter quartos com 1, 2, 3 e 4 pessoas. Seu sistema deve conseguir:\n",
    "\n",
    "1. Identificar quantas pessoas o hóspede que acabou de chegar vai ter no quarto (perguntando por meio de input)\n",
    "2. De acordo com a quantidade de pessoas do hóspede, ele deve fazer um for para perguntar o cpf e o nome de cada pessoa, a fim de registrá-la no quarto (2 inputs para cada pessoa, 1 para o cpf e outro para o nome)\n",
    "3. O seu programa então deve gerar uma lista com todas as pessoas que ficarão no quarto em que cada item dessa lista é o nome da pessoa e o cpf da pessoa, assim:"
   ]
  },
  {
   "cell_type": "raw",
   "metadata": {},
   "source": [
    "quarto = [\n",
    "    ['João', 'cpf:00000000000'],\n",
    "    ['Julia', 'cpf:11111111111'],\n",
    "    ['Marcus', 'cpf:22222222222'],\n",
    "    ['Maria', 'cpf:33333333333'],\n",
    "]"
   ]
  },
  {
   "cell_type": "markdown",
   "metadata": {},
   "source": [
    "- Para simplificar, não vamos nos preocupar com possibilidades de \"tentar colocar mais de 1 hóspede, digitar o cpf errado, etc. Nosso objetivo é treinar a criação de uma rotina de cadastro"
   ]
  },
  {
   "cell_type": "code",
   "execution_count": 5,
   "metadata": {},
   "outputs": [
    {
     "name": "stdout",
     "output_type": "stream",
     "text": [
      "Quantas pessoas ficarão hospedadas? 2\n",
      "Digite o nome: aline\n",
      "Digite o cpf: 12345678910\n",
      "Digite o nome: gabriel\n",
      "Digite o cpf: 01987654321\n",
      "[['aline', 'CPF12345678910'], ['gabriel', 'CPF01987654321']]\n"
     ]
    }
   ],
   "source": [
    "#seu código aqui\n",
    "qtd_pessoas = int(input('Quantas pessoas ficarão hospedadas? '))\n",
    "quarto = []\n",
    "\n",
    "for item in range(qtd_pessoas):\n",
    "    nome = input('Digite o nome: ')\n",
    "    cpf = input('Digite o cpf: ')\n",
    "    hospede = [nome, 'CPF' + cpf]\n",
    "    quarto.append(hospede)\n",
    "print(quarto)"
   ]
  },
  {
   "cell_type": "markdown",
   "metadata": {},
   "source": [
    "## 2. Análise de Vendas\n",
    "\n",
    "Nesse exercício vamos fazer uma \"análise simples\" de atingimento de Meta.\n",
    "\n",
    "Temos uma lista com os vendedores e os valores de vendas e queremos identificar (printar) quais os vendedores que bateram a meta e qual foi o valor que eles venderam."
   ]
  },
  {
   "cell_type": "code",
   "execution_count": 8,
   "metadata": {},
   "outputs": [
    {
     "name": "stdout",
     "output_type": "stream",
     "text": [
      "O vendedor João bateu a meta e fez 15000 vendas.\n",
      "O vendedor Julia bateu a meta e fez 27000 vendas.\n",
      "O vendedor Ana bateu a meta e fez 10300 vendas.\n"
     ]
    }
   ],
   "source": [
    "meta = 10000\n",
    "vendas = [\n",
    "    ['João', 15000],\n",
    "    ['Julia', 27000],\n",
    "    ['Marcus', 9900],\n",
    "    ['Maria', 3750],\n",
    "    ['Ana', 10300],\n",
    "    ['Alon', 7870],\n",
    "]\n",
    "#seu código aqui\n",
    "for item in vendas:\n",
    "    if item[1] >= meta:\n",
    "        print(f'O vendedor {item[0]} bateu a meta e fez {item[1]} vendas.')\n",
    "        "
   ]
  },
  {
   "cell_type": "markdown",
   "metadata": {},
   "source": [
    "## 3. Comparação com Ano Anterior\n",
    "\n",
    "Digamos que você está analisando as vendas de produtos de um ecommerce e quer identificar quais produtos tiveram no ano de 2020 mais vendas do que no ano de 2019, para reportar isso para a diretoria.\n",
    "\n",
    "Sua resposta pode ser um print de cada produto, qual foi a venda de 2019, a venda de 2020 e o % de crescimento de 2020 para 2019.\n",
    "\n",
    "Lembrando, para calcular o % de crescimento de um produto de um ano para o outro, podemos fazer: (vendas_produto2020/vendas_produto2019 - 1)\n",
    "\n",
    "Dica: lembre do enumerate, ele pode facilitar seu \"for\""
   ]
  },
  {
   "cell_type": "code",
   "execution_count": 19,
   "metadata": {},
   "outputs": [
    {
     "name": "stdout",
     "output_type": "stream",
     "text": [
      "O iphone teve 951,642 vendas em 2020 e 558,147 vendas em 2019, portanto, um crescimento de 70.5% no yoy.\n",
      "O tv teve 787,604 vendas em 2020 e 405,252 vendas em 2019, portanto, um crescimento de 94.3% no yoy.\n",
      "O máquina de café teve 867,660 vendas em 2020 e 718,654 vendas em 2019, portanto, um crescimento de 20.7% no yoy.\n",
      "O notebook dell teve 694,913 vendas em 2020 e 422,760 vendas em 2019, portanto, um crescimento de 64.4% no yoy.\n",
      "O notebook hp teve 539,704 vendas em 2020 e 154,753 vendas em 2019, portanto, um crescimento de 248.8% no yoy.\n",
      "O microsoft surface teve 667,179 vendas em 2020 e 438,508 vendas em 2019, portanto, um crescimento de 52.1% no yoy.\n",
      "O webcam teve 295,633 vendas em 2020 e 237,467 vendas em 2019, portanto, um crescimento de 24.5% no yoy.\n",
      "O caixa de som teve 725,316 vendas em 2020 e 489,705 vendas em 2019, portanto, um crescimento de 48.1% no yoy.\n",
      "O microfone teve 644,622 vendas em 2020 e 328,311 vendas em 2019, portanto, um crescimento de 96.3% no yoy.\n",
      "O câmera canon teve 994,303 vendas em 2020 e 591,120 vendas em 2019, portanto, um crescimento de 68.2% no yoy.\n"
     ]
    }
   ],
   "source": [
    "produtos = ['iphone', 'galaxy', 'ipad', 'tv', 'máquina de café', 'kindle', 'geladeira', 'adega', 'notebook dell', 'notebook hp', 'notebook asus', 'microsoft surface', 'webcam', 'caixa de som', 'microfone', 'câmera canon']\n",
    "vendas2019 = [558147,712350,573823,405252,718654,531580,973139,892292,422760,154753,887061,438508,237467,489705,328311,591120]\n",
    "vendas2020 = [951642,244295,26964,787604,867660,78830,710331,646016,694913,539704,324831,667179,295633,725316,644622,994303]\n",
    "#seu código aqui\n",
    "\n",
    "#produtos em 2020 com mais vendas que 2019\n",
    "for index, produto in enumerate(produtos):\n",
    "    if vendas2020[index] > vendas2019[index]:\n",
    "        crescimento = vendas2020[index] / vendas2019[index] - 1\n",
    "        print(f'O {produtos[index]} teve {vendas2020[index]:,} vendas em 2020 e {vendas2019[index]:,} vendas em 2019, portanto, um crescimento de {crescimento:.1%} no yoy.')"
   ]
  },
  {
   "cell_type": "code",
   "execution_count": null,
   "metadata": {},
   "outputs": [],
   "source": []
  }
 ],
 "metadata": {
  "kernelspec": {
   "display_name": "Python 3 (ipykernel)",
   "language": "python",
   "name": "python3"
  },
  "language_info": {
   "codemirror_mode": {
    "name": "ipython",
    "version": 3
   },
   "file_extension": ".py",
   "mimetype": "text/x-python",
   "name": "python",
   "nbconvert_exporter": "python",
   "pygments_lexer": "ipython3",
   "version": "3.9.12"
  }
 },
 "nbformat": 4,
 "nbformat_minor": 4
}
