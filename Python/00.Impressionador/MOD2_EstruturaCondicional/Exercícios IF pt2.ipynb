{
 "cells": [
  {
   "cell_type": "markdown",
   "metadata": {},
   "source": [
    "# Exercícios"
   ]
  },
  {
   "cell_type": "markdown",
   "metadata": {},
   "source": [
    "## 1. Criando um mini sistema de controle de estoque\n",
    "\n",
    "- Crie um sistema para ser usado pelo time de controle de estoque de um centro de distribuição.\n",
    "- Imagine que ao fim de todo dia, o time conta quantas unidades de produto existem no estoque. Se tivermos um estoque abaixo do estoque permitido para aquela categoria do produto, o time deve ser avisado (print) para fazer um novo pedido daquele produto.\n",
    "- Cada categoria de produto tem um estoque mínimo diferente, segundo a regra abaixo:\n",
    "\n",
    "- alimentos -> Estoque mínimo: 50\n",
    "- bebidas -> Estoque mínimo: 75\n",
    "- limpeza -> Estoque mínimo: 30\n",
    "\n",
    "Para isso vamos criar um programa que pede 3 inputs do usuário: nome do produto, categoria e quantidade atual em estoque.\n",
    "\n",
    "Se o produto tiver abaixo do estoque mínimo da categoria dele, o programa deve printar a mensagem \"Solicitar {produto} à equipe de compras, temos apenas {unidades} em estoque\"\n",
    "\n",
    "Exemplo: Se o usuário preenche os inputs com: bebidas, dolly, 90, o programa não deve exibir nenhuma mensagem.<br>\n",
    "Agora, se o usuário preenche os inputs com: bebidas, guaraná, 60, o programa deve exibir a mensagem \"Solicitar guaraná à equipe de compras, temos apenas 60 unidades em estoque.\n",
    "\n",
    "Obs: lembre de usar o int() para transformar o número inserido pelo usuário no input de string para int.<br>\n",
    "Obs2: Caso o usuário não preencha alguma das 3 informações, o programa deve exibir uma mensagem para avisá-lo de preencher corretamente."
   ]
  },
  {
   "cell_type": "code",
   "execution_count": 15,
   "metadata": {},
   "outputs": [
    {
     "name": "stdout",
     "output_type": "stream",
     "text": [
      "Digite o nome da categoria (alimentos, bebidas ou limpeza): bebidas\n",
      "Digite o nome do produto: coca\n",
      "Digite a quantidade atual em estoque: \n",
      "Por favor, digite categoria, nome do produto e quantidade corretamente.\n"
     ]
    }
   ],
   "source": [
    "\n",
    "#seu código aqui\n",
    "qtd_minima_alimentos = 50\n",
    "qtd_minima_bebidas = 75\n",
    "qtd_minima_limpeza = 30\n",
    "\n",
    "categoria = input('Digite o nome da categoria (alimentos, bebidas ou limpeza): ')\n",
    "nome_produto = input('Digite o nome do produto: ')\n",
    "qtd_atual = input('Digite a quantidade atual em estoque: ')\n",
    "\n",
    "if categoria and nome_produto and qtd_atual:\n",
    "    qtd_atual = int(qtde_atual)\n",
    "    # estoque abaixo do mínimo:\n",
    "    if categoria == 'alimentos' and qtd_atual < qtd_minima_alimentos:\n",
    "        print(f'Solicitar {nome_produto} à equipe de compras, temos apenas {qtd_atual} em estoque.')\n",
    "    elif categoria == 'bebidas' and qtd_atual < qtd_minima_bebidas:\n",
    "        print(f'Solicitar {nome_produto} à equipe de compras, temos apenas {qtd_atual} em estoque.')\n",
    "    elif categoria == 'limpeza' and qtd_atual < qtd_minima_limpeza:\n",
    "        print(f'Solicitar {nome_produto} à equipe de compras, temos apenas {qtd_atual} em estoque.')\n",
    "    # estoque igual ou acima do mínimo:\n",
    "    else:\n",
    "        pass\n",
    "else:\n",
    "    print('Por favor, digite categoria, nome do produto e quantidade corretamente.')\n",
    "\n",
    "    \n",
    "dicionario_coment = \"\"\"\n",
    "# usando dicionario\n",
    "categoria_2 = input('Digite o nome da categoria (alimentos, bebidas ou limpeza): ')\n",
    "nome_produto_2 = input('Digite o nome do produto: ')\n",
    "qtd_atual_2 = int(input('Digite a quantidade atual em estoque: '))\n",
    "\n",
    "\n",
    "dic_categoria = {\n",
    "    'alimentos' : 50, \n",
    "    'bebidas' : 75,\n",
    "    'limpeza' : 30\n",
    "}\n",
    "\n",
    "if dic_categoria[categoria_2] > qtd_atual_2 :\n",
    "    print(f'Solicitar {nome_produto_2} à equipe de compras, temos apenas {qtd_atual_2} em estoque.')\n",
    "else :\n",
    "    pass\n",
    "\n",
    "\"\"\""
   ]
  },
  {
   "cell_type": "code",
   "execution_count": null,
   "metadata": {},
   "outputs": [],
   "source": []
  }
 ],
 "metadata": {
  "kernelspec": {
   "display_name": "Python 3 (ipykernel)",
   "language": "python",
   "name": "python3"
  },
  "language_info": {
   "codemirror_mode": {
    "name": "ipython",
    "version": 3
   },
   "file_extension": ".py",
   "mimetype": "text/x-python",
   "name": "python",
   "nbconvert_exporter": "python",
   "pygments_lexer": "ipython3",
   "version": "3.9.12"
  }
 },
 "nbformat": 4,
 "nbformat_minor": 4
}
