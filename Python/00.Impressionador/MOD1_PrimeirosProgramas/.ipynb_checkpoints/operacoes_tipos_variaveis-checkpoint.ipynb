{
 "cells": [
  {
   "cell_type": "markdown",
   "id": "3256ca69",
   "metadata": {},
   "source": [
    "# Operações com Strings\n",
    "\n"
   ]
  },
  {
   "cell_type": "markdown",
   "id": "8815c7fb",
   "metadata": {},
   "source": [
    "## Concatenando textos\n"
   ]
  },
  {
   "cell_type": "code",
   "execution_count": 3,
   "id": "447a4606",
   "metadata": {},
   "outputs": [
    {
     "name": "stdout",
     "output_type": "stream",
     "text": [
      "2000\n",
      "500\n",
      "1500\n",
      "O faturamento da loja é: 2000\n",
      "O custo da loja é: 500\n",
      "Sendo assim, o lucro é: 1500\n",
      "Tudo junto, fica assim: O fat é: 2000. O custo é: 500. E por fim, o lucro é: 1500.\n"
     ]
    }
   ],
   "source": [
    "faturamento = 2000\n",
    "custo = 500\n",
    "lucro = faturamento - custo\n",
    "\n",
    "print(faturamento)\n",
    "print(custo)\n",
    "print(lucro)\n",
    "\n",
    "print(\"O faturamento da loja é: \" + str(faturamento))\n",
    "print(\"O custo da loja é: \" + str(custo))\n",
    "print(\"Sendo assim, o lucro é: \" + str(lucro))\n",
    "\n",
    "print(\"Tudo junto, fica assim: O fat é: \" + str(faturamento) + \". O custo é: \" + str(custo) + \". E por fim, o lucro é: \"+ str(lucro) + \".\")\n"
   ]
  },
  {
   "cell_type": "markdown",
   "id": "6864722a",
   "metadata": {},
   "source": [
    "## Utilizando método 'format'\n"
   ]
  },
  {
   "cell_type": "code",
   "execution_count": 6,
   "id": "5742737e",
   "metadata": {},
   "outputs": [
    {
     "name": "stdout",
     "output_type": "stream",
     "text": [
      "O faturamento foi de: 2000. O custo foi de: 500. Assim, o lucro foi de: 1500\n"
     ]
    }
   ],
   "source": [
    "faturamento = 2000\n",
    "custo = 500\n",
    "lucro = faturamento - custo\n",
    "\n",
    "# com format\n",
    "print('O faturamento foi de: {}. O custo foi de: {}. Assim, o lucro foi de: {}'.format(faturamento, custo, lucro))\n"
   ]
  },
  {
   "cell_type": "markdown",
   "id": "a4d64086",
   "metadata": {},
   "source": [
    "## Utilizando 'f-string'"
   ]
  },
  {
   "cell_type": "code",
   "execution_count": 7,
   "id": "765945aa",
   "metadata": {},
   "outputs": [
    {
     "name": "stdout",
     "output_type": "stream",
     "text": [
      "O faturamento foi de: 2000. O custo foi de: 500. Assim, o lucro foi de: 1500\n"
     ]
    }
   ],
   "source": [
    "# com f-string\n",
    "print(f'O faturamento foi de: {faturamento}. O custo foi de: {custo}. Assim, o lucro foi de: {faturamento - custo}')\n"
   ]
  },
  {
   "cell_type": "markdown",
   "id": "73d67c3f",
   "metadata": {},
   "source": [
    "# Mudança de tipo de variável"
   ]
  },
  {
   "cell_type": "code",
   "execution_count": 14,
   "id": "ec91a804",
   "metadata": {},
   "outputs": [
    {
     "name": "stdout",
     "output_type": "stream",
     "text": [
      "Por favor, insira quanto foi seu faturamento: 1500.122\n",
      "Agora, insira o seu custo: 1600.1\n",
      "<class 'float'>\n",
      "<class 'float'>\n",
      "-99.97799999999984\n"
     ]
    }
   ],
   "source": [
    "# str -> muda para string\n",
    "# int -> muda para inteiro\n",
    "# float -> muda para float\n",
    "\n",
    "# toda vez que utilizamos o input ele automaticamente assume que o que foi digitado é um texto\n",
    "faturamento = float(input('Por favor, insira quanto foi seu faturamento: '))\n",
    "custo = float(input('Agora, insira o seu custo: '))\n",
    "\n",
    "print(type(faturamento))\n",
    "print(type(custo))\n",
    "\n",
    "lucro = faturamento - custo\n",
    "print(lucro)\n",
    "\n"
   ]
  },
  {
   "cell_type": "code",
   "execution_count": null,
   "id": "ead9bf77",
   "metadata": {},
   "outputs": [],
   "source": []
  }
 ],
 "metadata": {
  "kernelspec": {
   "display_name": "Python 3 (ipykernel)",
   "language": "python",
   "name": "python3"
  },
  "language_info": {
   "codemirror_mode": {
    "name": "ipython",
    "version": 3
   },
   "file_extension": ".py",
   "mimetype": "text/x-python",
   "name": "python",
   "nbconvert_exporter": "python",
   "pygments_lexer": "ipython3",
   "version": "3.9.12"
  }
 },
 "nbformat": 4,
 "nbformat_minor": 5
}
