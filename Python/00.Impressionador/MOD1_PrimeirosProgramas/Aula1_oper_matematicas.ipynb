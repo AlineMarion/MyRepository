{
 "cells": [
  {
   "cell_type": "markdown",
   "id": "fec53538",
   "metadata": {},
   "source": [
    "# Meu primeiro programa\n",
    "### Print e operações matemáticas\n"
   ]
  },
  {
   "cell_type": "code",
   "execution_count": 25,
   "id": "310d72fd",
   "metadata": {},
   "outputs": [
    {
     "name": "stdout",
     "output_type": "stream",
     "text": [
      "Primeira aula\n",
      "123\n"
     ]
    }
   ],
   "source": [
    "# imprimir algo\n",
    "print(\"Primeira aula\")\n",
    "print(123)"
   ]
  },
  {
   "cell_type": "code",
   "execution_count": 26,
   "id": "ffa1bd49",
   "metadata": {},
   "outputs": [
    {
     "name": "stdout",
     "output_type": "stream",
     "text": [
      "12\n",
      "4.1\n",
      "8\n",
      "-1.9\n",
      "20\n",
      "3.3000000000000003\n",
      "5.0\n",
      "0.3666666666666667\n",
      "0\n",
      "1\n"
     ]
    }
   ],
   "source": [
    "# operações matematicas\n",
    "\n",
    "# soma\n",
    "print(10 + 2)\n",
    "print(1.1 + 3)\n",
    "\n",
    "# subtracao\n",
    "print(10 - 2)\n",
    "print(1.1 - 3)\n",
    "\n",
    "# multiplicacao\n",
    "print(10 * 2)\n",
    "print(1.1 * 3)\n",
    "\n",
    "# divisao\n",
    "print(10 / 2)\n",
    "print(1.1 / 3)\n",
    "\n",
    "# resto da divisao (mod)\n",
    "print(10 % 2)\n",
    "print(7 % 3)"
   ]
  },
  {
   "cell_type": "markdown",
   "id": "b5a5b4c1",
   "metadata": {},
   "source": [
    "### Operações com strings"
   ]
  },
  {
   "cell_type": "code",
   "execution_count": 27,
   "id": "b7b068a6",
   "metadata": {},
   "outputs": [
    {
     "name": "stdout",
     "output_type": "stream",
     "text": [
      "soma resultado da soma\n"
     ]
    }
   ],
   "source": [
    "# concatenar textos\n",
    "print('soma ' + 'resultado da soma')"
   ]
  },
  {
   "cell_type": "code",
   "execution_count": 28,
   "id": "5b5383b6",
   "metadata": {},
   "outputs": [
    {
     "name": "stdout",
     "output_type": "stream",
     "text": [
      "True\n",
      "False\n"
     ]
    }
   ],
   "source": [
    "# verificacao se algo esta contido em (case sensitive)\n",
    "print('l' in 'aline')\n",
    "print('L' in 'aline')"
   ]
  },
  {
   "cell_type": "markdown",
   "id": "59c40c27",
   "metadata": {},
   "source": [
    "\n",
    "## Criar variaveis"
   ]
  },
  {
   "cell_type": "code",
   "execution_count": 29,
   "id": "f6b3bbe2",
   "metadata": {},
   "outputs": [
    {
     "name": "stdout",
     "output_type": "stream",
     "text": [
      "aline\n",
      "1500\n"
     ]
    }
   ],
   "source": [
    "# padrao com \"_\" para criacao, ex: quantidade de vendas\n",
    "qtde_vendas = 1500\n",
    "nome = 'aline'\n",
    "\n",
    "print(nome)\n",
    "print(qtde_vendas)\n"
   ]
  },
  {
   "cell_type": "code",
   "execution_count": 43,
   "id": "cc7e4e23",
   "metadata": {},
   "outputs": [
    {
     "name": "stdout",
     "output_type": "stream",
     "text": [
      "Qual o seu primeiro nome? aline\n",
      "E o seu sobrenome? marion\n",
      "aline marion 1500 7\n"
     ]
    }
   ],
   "source": [
    "# pegar informações do usuário e criar a variável\n",
    "nome = input('Qual o seu primeiro nome? ')\n",
    "sobrenome = input('E o seu sobrenome? ')\n",
    "\n",
    "print(nome + ' ' + sobrenome, qtde_vendas, str(1+6))"
   ]
  },
  {
   "cell_type": "code",
   "execution_count": null,
   "id": "2974921b",
   "metadata": {},
   "outputs": [],
   "source": []
  }
 ],
 "metadata": {
  "kernelspec": {
   "display_name": "Python 3 (ipykernel)",
   "language": "python",
   "name": "python3"
  },
  "language_info": {
   "codemirror_mode": {
    "name": "ipython",
    "version": 3
   },
   "file_extension": ".py",
   "mimetype": "text/x-python",
   "name": "python",
   "nbconvert_exporter": "python",
   "pygments_lexer": "ipython3",
   "version": "3.9.12"
  }
 },
 "nbformat": 4,
 "nbformat_minor": 5
}
